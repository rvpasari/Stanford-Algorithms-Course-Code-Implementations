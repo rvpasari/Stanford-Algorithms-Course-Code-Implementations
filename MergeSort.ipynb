{
 "cells": [
  {
   "cell_type": "code",
   "execution_count": 1,
   "metadata": {
    "collapsed": false
   },
   "outputs": [],
   "source": [
    "def mergeSort(l,n):   \n",
    "    if n <= 1: # base case \n",
    "        return l\n",
    "    a = mergeSort(l[0:n/2], n/2)\n",
    "    b = mergeSort(l[n/2:n], n/2)\n",
    "    return merge(a,b)\n",
    "    \n",
    "    \n",
    "def merge(left, right): \n",
    "    c = []\n",
    "    while len(left+right) > 0: \n",
    "        if not left: \n",
    "            c.extend(right)\n",
    "            return c\n",
    "        elif not right:\n",
    "            c.extend(left)\n",
    "            return c\n",
    "        elif left[0] < right[0]: \n",
    "            c.append(left.pop(0))\n",
    "        elif left[0] > right[0]:    \n",
    "            c.append(right.pop(0))"
   ]
  },
  {
   "cell_type": "code",
   "execution_count": 5,
   "metadata": {
    "collapsed": false
   },
   "outputs": [
    {
     "data": {
      "text/plain": [
       "[5, 6, 8, 13, 14, 21, 23, 37, 70, 72, 86, 87, 90, 94, 95, 99]"
      ]
     },
     "execution_count": 5,
     "metadata": {},
     "output_type": "execute_result"
    }
   ],
   "source": [
    "import random\n",
    "l = random.sample(xrange(100), 20)\n",
    "mergeSort(l,len(l))"
   ]
  }
 ],
 "metadata": {
  "kernelspec": {
   "display_name": "Python 2",
   "language": "python",
   "name": "python2"
  },
  "language_info": {
   "codemirror_mode": {
    "name": "ipython",
    "version": 2
   },
   "file_extension": ".py",
   "mimetype": "text/x-python",
   "name": "python",
   "nbconvert_exporter": "python",
   "pygments_lexer": "ipython2",
   "version": "2.7.11"
  }
 },
 "nbformat": 4,
 "nbformat_minor": 0
}
